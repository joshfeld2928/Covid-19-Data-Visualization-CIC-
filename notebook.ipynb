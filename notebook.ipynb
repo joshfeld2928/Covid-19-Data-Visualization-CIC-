{
 "cells": [
  {
   "cell_type": "markdown",
   "metadata": {},
   "source": [
    "Joshua Feld and Jingyao Wang Wu\n",
    "University of Rochester \n",
    "Covid-19 Data Visualization Project \n",
    "\n",
    "add the date class year etc. and push back just to confirm that I can see your changes and whatnot"
   ]
  }
 ],
 "metadata": {
  "language_info": {
   "name": "python"
  }
 },
 "nbformat": 4,
 "nbformat_minor": 2
}
